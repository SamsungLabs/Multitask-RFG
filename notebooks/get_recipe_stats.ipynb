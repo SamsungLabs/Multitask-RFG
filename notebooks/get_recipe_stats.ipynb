{
 "cells": [
  {
   "cell_type": "code",
   "execution_count": 1,
   "metadata": {},
   "outputs": [
    {
     "name": "stderr",
     "output_type": "stream",
     "text": [
      "/user/d.bhatt/Multitask-RFG/MTrfg_env/lib/python3.8/site-packages/tqdm/auto.py:22: TqdmWarning: IProgress not found. Please update jupyter and ipywidgets. See https://ipywidgets.readthedocs.io/en/stable/user_install.html\n",
      "  from .autonotebook import tqdm as notebook_tqdm\n"
     ]
    }
   ],
   "source": [
    "## calculate data stats\n",
    "from mtrfg.utils import get_recipe_stats_from_file, dict_as_readable_string\n",
    "from pathlib import Path\n",
    "import os"
   ]
  },
  {
   "cell_type": "code",
   "execution_count": null,
   "metadata": {},
   "outputs": [],
   "source": [
    "## get recipe stats of silver dataset for curriculum learning\n",
    "data_splits, curriculum_data_path = 10, '/data/Multitask_RFG/curriculum_learning_data/'\n",
    "train_files = [os.path.join(curriculum_data_path, f'train_{i}.conllu') for i in range(data_splits)]\n",
    "test_files = [os.path.join(curriculum_data_path, f'test_{i}.conllu') for i in range(data_splits)]\n",
    "dev_files = [os.path.join(curriculum_data_path, f'dev_{i}.conllu') for i in range(data_splits)]\n",
    "\n",
    "## let's get the statistics\n",
    "train_stats = {Path(path).stem : get_recipe_stats_from_file(path) for path in train_files}\n",
    "test_stats = {Path(path).stem : get_recipe_stats_from_file(path) for path in test_files}\n",
    "dev_stats = {Path(path).stem : get_recipe_stats_from_file(path) for path in dev_files}\n"
   ]
  },
  {
   "cell_type": "code",
   "execution_count": null,
   "metadata": {},
   "outputs": [],
   "source": [
    "## let's print them\n",
    "print(f'Curriculum train stats:\\n{dict_as_readable_string(train_stats)}')\n",
    "print(f'Curriculum test stats:\\n{dict_as_readable_string(test_stats)}')\n",
    "print(f'Curriculum dev stats:\\n{dict_as_readable_string(dev_stats)}')"
   ]
  },
  {
   "cell_type": "code",
   "execution_count": 6,
   "metadata": {},
   "outputs": [],
   "source": [
    "## yamakata stats\n",
    "yamakata_data_path = '../data/Parser/'\n",
    "train_file = [os.path.join(yamakata_data_path, f'train.conllu')]\n",
    "test_file = [os.path.join(yamakata_data_path, f'test.conllu')]\n",
    "dev_file = [os.path.join(yamakata_data_path, f'dev.conllu')]\n",
    "all_file = [os.path.join(yamakata_data_path, f'all.conllu')]\n",
    "\n",
    "## let's get the statistics\n",
    "train_stats = {Path(path).stem : get_recipe_stats_from_file(path) for path in train_file}\n",
    "test_stats = {Path(path).stem : get_recipe_stats_from_file(path) for path in test_file}\n",
    "dev_stats = {Path(path).stem : get_recipe_stats_from_file(path) for path in dev_file}\n",
    "all_stats = {Path(path).stem : get_recipe_stats_from_file(path) for path in all_file}\n"
   ]
  },
  {
   "cell_type": "code",
   "execution_count": 7,
   "metadata": {},
   "outputs": [
    {
     "name": "stdout",
     "output_type": "stream",
     "text": [
      "Yamakata train stats:\n",
      "train : {'num_recipes': 238, 'max_len': 433, 'min_len': 11, 'avg_len': 128.626, 'std_dev': 71.366}\n",
      "Yamakata test stats:\n",
      "test : {'num_recipes': 29, 'max_len': 285, 'min_len': 43, 'avg_len': 131.966, 'std_dev': 60.671}\n",
      "Yamakata dev stats:\n",
      "dev : {'num_recipes': 30, 'max_len': 246, 'min_len': 20, 'avg_len': 111.033, 'std_dev': 61.84}\n",
      "Yamakata all data stats:\n",
      "all : {'num_recipes': 297, 'max_len': 433, 'min_len': 11, 'avg_len': 127.175, 'std_dev': 69.694}\n"
     ]
    }
   ],
   "source": [
    "## let's print them\n",
    "print(f'Yamakata train stats:\\n{dict_as_readable_string(train_stats)}')\n",
    "print(f'Yamakata test stats:\\n{dict_as_readable_string(test_stats)}')\n",
    "print(f'Yamakata dev stats:\\n{dict_as_readable_string(dev_stats)}')\n",
    "print(f'Yamakata all data stats:\\n{dict_as_readable_string(all_stats)}')"
   ]
  },
  {
   "cell_type": "code",
   "execution_count": 9,
   "metadata": {},
   "outputs": [],
   "source": [
    "## curriculum full data stats\n",
    "curriculum_data_path = '/data/Ahmad/Silver/Parser'\n",
    "train_file = [os.path.join(curriculum_data_path, f'train.conllu')]\n",
    "test_file = [os.path.join(curriculum_data_path, f'test.conllu')]\n",
    "dev_file = [os.path.join(curriculum_data_path, f'dev.conllu')]\n",
    "\n",
    "## let's get the statistics\n",
    "train_stats = {Path(path).stem : get_recipe_stats_from_file(path) for path in train_file}\n",
    "test_stats = {Path(path).stem : get_recipe_stats_from_file(path) for path in test_file}\n",
    "dev_stats = {Path(path).stem : get_recipe_stats_from_file(path) for path in dev_file}\n"
   ]
  },
  {
   "cell_type": "code",
   "execution_count": 10,
   "metadata": {},
   "outputs": [
    {
     "name": "stdout",
     "output_type": "stream",
     "text": [
      "Curriculum all train stats:\n",
      "train : {'num_recipes': 8000, 'max_len': 272, 'min_len': 20, 'avg_len': 114.649, 'std_dev': 60.553}\n",
      "Curriculum all test stats:\n",
      "test : {'num_recipes': 1000, 'max_len': 272, 'min_len': 20, 'avg_len': 112.35, 'std_dev': 57.746}\n",
      "Curriculum all dev stats:\n",
      "dev : {'num_recipes': 1000, 'max_len': 272, 'min_len': 20, 'avg_len': 115.658, 'std_dev': 61.179}\n"
     ]
    }
   ],
   "source": [
    "## let's print them\n",
    "print(f'Curriculum all train stats:\\n{dict_as_readable_string(train_stats)}')\n",
    "print(f'Curriculum all test stats:\\n{dict_as_readable_string(test_stats)}')\n",
    "print(f'Curriculum all dev stats:\\n{dict_as_readable_string(dev_stats)}')"
   ]
  }
 ],
 "metadata": {
  "interpreter": {
   "hash": "46e1864029c28752d956e1c306007726d1cdf9327c2678741762de7d12d39fb4"
  },
  "kernelspec": {
   "display_name": "Python 3.8.10 ('MTrfg_env': venv)",
   "language": "python",
   "name": "python3"
  },
  "language_info": {
   "codemirror_mode": {
    "name": "ipython",
    "version": 3
   },
   "file_extension": ".py",
   "mimetype": "text/x-python",
   "name": "python",
   "nbconvert_exporter": "python",
   "pygments_lexer": "ipython3",
   "version": "3.8.10"
  },
  "orig_nbformat": 4
 },
 "nbformat": 4,
 "nbformat_minor": 2
}
