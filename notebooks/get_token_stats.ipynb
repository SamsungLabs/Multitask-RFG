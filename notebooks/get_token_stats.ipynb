{
 "cells": [
  {
   "cell_type": "code",
   "execution_count": 1,
   "metadata": {},
   "outputs": [
    {
     "name": "stderr",
     "output_type": "stream",
     "text": [
      "/user/d.bhatt/Multitask-RFG/MTrfg_env/lib/python3.8/site-packages/tqdm/auto.py:22: TqdmWarning: IProgress not found. Please update jupyter and ipywidgets. See https://ipywidgets.readthedocs.io/en/stable/user_install.html\n",
      "  from .autonotebook import tqdm as notebook_tqdm\n"
     ]
    }
   ],
   "source": [
    "## calculate data stats\n",
    "from mtrfg.utils import get_root_token_stats_from_file, dict_as_readable_string\n",
    "from pathlib import Path\n",
    "import os"
   ]
  },
  {
   "cell_type": "code",
   "execution_count": 2,
   "metadata": {},
   "outputs": [
    {
     "name": "stderr",
     "output_type": "stream",
     "text": [
      "Your label namespace was 'pos'. We recommend you use a namespace ending with 'labels' or 'tags', so we don't add UNK and PAD tokens by default to your vocabulary.  See documentation for `non_padded_namespaces` parameter in Vocabulary.\n"
     ]
    }
   ],
   "source": [
    "## get recipe stats of silver dataset for curriculum learning\n",
    "data_splits, curriculum_data_path = 10, '/data/Multitask_RFG/curriculum_learning_data/'\n",
    "train_files = [os.path.join(curriculum_data_path, f'train_{i}.conllu') for i in range(data_splits)]\n",
    "test_files = [os.path.join(curriculum_data_path, f'test_{i}.conllu') for i in range(data_splits)]\n",
    "dev_files = [os.path.join(curriculum_data_path, f'dev_{i}.conllu') for i in range(data_splits)]\n",
    "\n",
    "## let's get the statistics\n",
    "train_stats = {Path(path).stem : get_root_token_stats_from_file(path) for path in train_files}\n",
    "test_stats = {Path(path).stem : get_root_token_stats_from_file(path) for path in test_files}\n",
    "dev_stats = {Path(path).stem : get_root_token_stats_from_file(path) for path in dev_files}\n"
   ]
  },
  {
   "cell_type": "code",
   "execution_count": 3,
   "metadata": {},
   "outputs": [
    {
     "name": "stdout",
     "output_type": "stream",
     "text": [
      "Curriculum train stats:\n",
      "train_0 : {'num_recipes': 800, 'max_root_tokens': 33, 'min_root_tokens': 10, 'avg_root_tokens': 18.979, 'std_dev_root_tokens': 4.375}\n",
      "train_1 : {'num_recipes': 800, 'max_root_tokens': 51, 'min_root_tokens': 20, 'avg_root_tokens': 30.294, 'std_dev_root_tokens': 4.461}\n",
      "train_2 : {'num_recipes': 800, 'max_root_tokens': 64, 'min_root_tokens': 26, 'avg_root_tokens': 39.622, 'std_dev_root_tokens': 4.832}\n",
      "train_3 : {'num_recipes': 800, 'max_root_tokens': 81, 'min_root_tokens': 37, 'avg_root_tokens': 48.758, 'std_dev_root_tokens': 5.205}\n",
      "train_4 : {'num_recipes': 800, 'max_root_tokens': 90, 'min_root_tokens': 42, 'avg_root_tokens': 57.901, 'std_dev_root_tokens': 6.18}\n",
      "train_5 : {'num_recipes': 800, 'max_root_tokens': 104, 'min_root_tokens': 52, 'avg_root_tokens': 68.212, 'std_dev_root_tokens': 7.352}\n",
      "train_6 : {'num_recipes': 800, 'max_root_tokens': 118, 'min_root_tokens': 59, 'avg_root_tokens': 79.419, 'std_dev_root_tokens': 8.383}\n",
      "train_7 : {'num_recipes': 800, 'max_root_tokens': 147, 'min_root_tokens': 72, 'avg_root_tokens': 94.119, 'std_dev_root_tokens': 10.396}\n",
      "train_8 : {'num_recipes': 800, 'max_root_tokens': 168, 'min_root_tokens': 86, 'avg_root_tokens': 114.97, 'std_dev_root_tokens': 12.7}\n",
      "train_9 : {'num_recipes': 800, 'max_root_tokens': 217, 'min_root_tokens': 112, 'avg_root_tokens': 147.698, 'std_dev_root_tokens': 18.781}\n",
      "Curriculum test stats:\n",
      "test_0 : {'num_recipes': 100, 'max_root_tokens': 35, 'min_root_tokens': 10, 'avg_root_tokens': 19.59, 'std_dev_root_tokens': 5.426}\n",
      "test_1 : {'num_recipes': 100, 'max_root_tokens': 44, 'min_root_tokens': 24, 'avg_root_tokens': 31.23, 'std_dev_root_tokens': 4.207}\n",
      "test_2 : {'num_recipes': 100, 'max_root_tokens': 58, 'min_root_tokens': 32, 'avg_root_tokens': 39.84, 'std_dev_root_tokens': 5.251}\n",
      "test_3 : {'num_recipes': 100, 'max_root_tokens': 68, 'min_root_tokens': 35, 'avg_root_tokens': 48.79, 'std_dev_root_tokens': 5.78}\n",
      "test_4 : {'num_recipes': 100, 'max_root_tokens': 70, 'min_root_tokens': 44, 'avg_root_tokens': 56.53, 'std_dev_root_tokens': 4.959}\n",
      "test_5 : {'num_recipes': 100, 'max_root_tokens': 87, 'min_root_tokens': 49, 'avg_root_tokens': 67.38, 'std_dev_root_tokens': 7.619}\n",
      "test_6 : {'num_recipes': 100, 'max_root_tokens': 103, 'min_root_tokens': 64, 'avg_root_tokens': 79.46, 'std_dev_root_tokens': 7.303}\n",
      "test_7 : {'num_recipes': 100, 'max_root_tokens': 118, 'min_root_tokens': 77, 'avg_root_tokens': 90.98, 'std_dev_root_tokens': 7.871}\n",
      "test_8 : {'num_recipes': 100, 'max_root_tokens': 157, 'min_root_tokens': 82, 'avg_root_tokens': 109.49, 'std_dev_root_tokens': 13.357}\n",
      "test_9 : {'num_recipes': 100, 'max_root_tokens': 202, 'min_root_tokens': 98, 'avg_root_tokens': 142.9, 'std_dev_root_tokens': 20.922}\n",
      "Curriculum dev stats:\n",
      "dev_0 : {'num_recipes': 100, 'max_root_tokens': 30, 'min_root_tokens': 9, 'avg_root_tokens': 19.09, 'std_dev_root_tokens': 4.682}\n",
      "dev_1 : {'num_recipes': 100, 'max_root_tokens': 46, 'min_root_tokens': 21, 'avg_root_tokens': 30.81, 'std_dev_root_tokens': 4.662}\n",
      "dev_2 : {'num_recipes': 100, 'max_root_tokens': 59, 'min_root_tokens': 29, 'avg_root_tokens': 39.66, 'std_dev_root_tokens': 4.807}\n",
      "dev_3 : {'num_recipes': 100, 'max_root_tokens': 61, 'min_root_tokens': 40, 'avg_root_tokens': 47.58, 'std_dev_root_tokens': 4.403}\n",
      "dev_4 : {'num_recipes': 100, 'max_root_tokens': 77, 'min_root_tokens': 43, 'avg_root_tokens': 57.16, 'std_dev_root_tokens': 5.46}\n",
      "dev_5 : {'num_recipes': 100, 'max_root_tokens': 93, 'min_root_tokens': 56, 'avg_root_tokens': 70.2, 'std_dev_root_tokens': 7.419}\n",
      "dev_6 : {'num_recipes': 100, 'max_root_tokens': 107, 'min_root_tokens': 68, 'avg_root_tokens': 80.71, 'std_dev_root_tokens': 7.658}\n",
      "dev_7 : {'num_recipes': 100, 'max_root_tokens': 139, 'min_root_tokens': 75, 'avg_root_tokens': 96.01, 'std_dev_root_tokens': 10.883}\n",
      "dev_8 : {'num_recipes': 100, 'max_root_tokens': 189, 'min_root_tokens': 86, 'avg_root_tokens': 115.97, 'std_dev_root_tokens': 15.116}\n",
      "dev_9 : {'num_recipes': 100, 'max_root_tokens': 196, 'min_root_tokens': 115, 'avg_root_tokens': 148.71, 'std_dev_root_tokens': 17.669}\n"
     ]
    }
   ],
   "source": [
    "## let's print them\n",
    "print(f'Curriculum train stats:\\n{dict_as_readable_string(train_stats)}')\n",
    "print(f'Curriculum test stats:\\n{dict_as_readable_string(test_stats)}')\n",
    "print(f'Curriculum dev stats:\\n{dict_as_readable_string(dev_stats)}')"
   ]
  },
  {
   "cell_type": "code",
   "execution_count": 4,
   "metadata": {},
   "outputs": [],
   "source": [
    "## yamakata stats\n",
    "yamakata_data_path = '../data/Parser/'\n",
    "train_file = [os.path.join(yamakata_data_path, f'train.conllu')]\n",
    "test_file = [os.path.join(yamakata_data_path, f'test.conllu')]\n",
    "dev_file = [os.path.join(yamakata_data_path, f'dev.conllu')]\n",
    "all_file = [os.path.join(yamakata_data_path, f'all.conllu')]\n",
    "\n",
    "## let's get the statistics\n",
    "train_stats = {Path(path).stem : get_root_token_stats_from_file(path) for path in train_file}\n",
    "test_stats = {Path(path).stem : get_root_token_stats_from_file(path) for path in test_file}\n",
    "dev_stats = {Path(path).stem : get_root_token_stats_from_file(path) for path in dev_file}\n",
    "all_stats = {Path(path).stem : get_root_token_stats_from_file(path) for path in all_file}\n"
   ]
  },
  {
   "cell_type": "code",
   "execution_count": 5,
   "metadata": {},
   "outputs": [
    {
     "name": "stdout",
     "output_type": "stream",
     "text": [
      "Yamakata train stats:\n",
      "train : {'num_recipes': 238, 'max_root_tokens': 303, 'min_root_tokens': 7, 'avg_root_tokens': 79.0, 'std_dev_root_tokens': 46.143}\n",
      "Yamakata test stats:\n",
      "test : {'num_recipes': 29, 'max_root_tokens': 173, 'min_root_tokens': 26, 'avg_root_tokens': 81.345, 'std_dev_root_tokens': 39.205}\n",
      "Yamakata dev stats:\n",
      "dev : {'num_recipes': 30, 'max_root_tokens': 155, 'min_root_tokens': 11, 'avg_root_tokens': 67.367, 'std_dev_root_tokens': 39.008}\n",
      "Yamakata all data stats:\n",
      "all : {'num_recipes': 297, 'max_root_tokens': 303, 'min_root_tokens': 7, 'avg_root_tokens': 78.054, 'std_dev_root_tokens': 44.981}\n"
     ]
    }
   ],
   "source": [
    "## let's print them\n",
    "print(f'Yamakata train stats:\\n{dict_as_readable_string(train_stats)}')\n",
    "print(f'Yamakata test stats:\\n{dict_as_readable_string(test_stats)}')\n",
    "print(f'Yamakata dev stats:\\n{dict_as_readable_string(dev_stats)}')\n",
    "print(f'Yamakata all data stats:\\n{dict_as_readable_string(all_stats)}')"
   ]
  },
  {
   "cell_type": "code",
   "execution_count": 6,
   "metadata": {},
   "outputs": [],
   "source": [
    "## curriculum full data stats\n",
    "curriculum_data_path = '/data/Ahmad/Silver/Parser'\n",
    "train_file = [os.path.join(curriculum_data_path, f'train.conllu')]\n",
    "test_file = [os.path.join(curriculum_data_path, f'test.conllu')]\n",
    "dev_file = [os.path.join(curriculum_data_path, f'dev.conllu')]\n",
    "\n",
    "## let's get the statistics\n",
    "train_stats = {Path(path).stem : get_root_token_stats_from_file(path) for path in train_file}\n",
    "test_stats = {Path(path).stem : get_root_token_stats_from_file(path) for path in test_file}\n",
    "dev_stats = {Path(path).stem : get_root_token_stats_from_file(path) for path in dev_file}\n"
   ]
  },
  {
   "cell_type": "code",
   "execution_count": 7,
   "metadata": {},
   "outputs": [
    {
     "name": "stdout",
     "output_type": "stream",
     "text": [
      "Curriculum all train stats:\n",
      "train : {'num_recipes': 8000, 'max_root_tokens': 217, 'min_root_tokens': 10, 'avg_root_tokens': 69.997, 'std_dev_root_tokens': 39.124}\n",
      "Curriculum all test stats:\n",
      "test : {'num_recipes': 1000, 'max_root_tokens': 202, 'min_root_tokens': 10, 'avg_root_tokens': 68.619, 'std_dev_root_tokens': 37.281}\n",
      "Curriculum all dev stats:\n",
      "dev : {'num_recipes': 1000, 'max_root_tokens': 196, 'min_root_tokens': 9, 'avg_root_tokens': 70.59, 'std_dev_root_tokens': 39.624}\n"
     ]
    }
   ],
   "source": [
    "## let's print them\n",
    "print(f'Curriculum all train stats:\\n{dict_as_readable_string(train_stats)}')\n",
    "print(f'Curriculum all test stats:\\n{dict_as_readable_string(test_stats)}')\n",
    "print(f'Curriculum all dev stats:\\n{dict_as_readable_string(dev_stats)}')"
   ]
  }
 ],
 "metadata": {
  "interpreter": {
   "hash": "46e1864029c28752d956e1c306007726d1cdf9327c2678741762de7d12d39fb4"
  },
  "kernelspec": {
   "display_name": "Python 3.8.10 ('MTrfg_env': venv)",
   "language": "python",
   "name": "python3"
  },
  "language_info": {
   "codemirror_mode": {
    "name": "ipython",
    "version": 3
   },
   "file_extension": ".py",
   "mimetype": "text/x-python",
   "name": "python",
   "nbconvert_exporter": "python",
   "pygments_lexer": "ipython3",
   "version": "3.8.10"
  },
  "orig_nbformat": 4
 },
 "nbformat": 4,
 "nbformat_minor": 2
}
