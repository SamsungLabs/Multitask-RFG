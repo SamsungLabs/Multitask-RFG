{
 "cells": [
  {
   "cell_type": "code",
   "execution_count": 1,
   "metadata": {},
   "outputs": [
    {
     "name": "stderr",
     "output_type": "stream",
     "text": [
      "/user/d.bhatt/Multitask-RFG/MTrfg_env/lib/python3.8/site-packages/tqdm/auto.py:22: TqdmWarning: IProgress not found. Please update jupyter and ipywidgets. See https://ipywidgets.readthedocs.io/en/stable/user_install.html\n",
      "  from .autonotebook import tqdm as notebook_tqdm\n"
     ]
    }
   ],
   "source": [
    "\"\"\"\n",
    "    In this small notebook, we will test inference and how it works.\n",
    "\"\"\"\n",
    "\n",
    "from mtrfg.utils import read_conllu_dataset_allennlp, write_text\n",
    "import os"
   ]
  },
  {
   "cell_type": "code",
   "execution_count": 2,
   "metadata": {},
   "outputs": [
    {
     "name": "stderr",
     "output_type": "stream",
     "text": [
      "Your label namespace was 'pos'. We recommend you use a namespace ending with 'labels' or 'tags', so we don't add UNK and PAD tokens by default to your vocabulary.  See documentation for `non_padded_namespaces` parameter in Vocabulary.\n"
     ]
    }
   ],
   "source": [
    "## read the dataset and build a file with recipes\n",
    "data = read_conllu_dataset_allennlp('../data/Parser/test.conllu')\n",
    "recipes = '\\n'.join(' '.join([token.text for token in datapoint['words'].tokens]) for datapoint in data)\n",
    "recipe_text_file = '/tmp/recipes.txt'\n",
    "write_text(recipe_text_file, recipes)"
   ]
  },
  {
   "cell_type": "code",
   "execution_count": 3,
   "metadata": {},
   "outputs": [
    {
     "name": "stdout",
     "output_type": "stream",
     "text": [
      "CUDA_VISIBLE_DEVICES=2 python3 ../tools/inference.py --opts --dir_name \"../saved_models/__bert-base-uncased_2022-09-06--14:03:09\" --recipes_file_path \"/tmp/recipes.txt\" --output_file_path \"/tmp/recipe_out.conllu\" --use_pred_tags \"True\"\n"
     ]
    },
    {
     "name": "stderr",
     "output_type": "stream",
     "text": [
      "/user/d.bhatt/Multitask-RFG/mtrfg/utils/setup.py:27: UserWarning: dir_name is passed as an input but not a valid key in current config. So it is ignored while overriding config.\n",
      "  warnings.warn(f'{key} is passed as an input but not a valid key in current config. So it is ignored while overriding config.')\n",
      "/user/d.bhatt/Multitask-RFG/mtrfg/utils/setup.py:27: UserWarning: recipes_file_path is passed as an input but not a valid key in current config. So it is ignored while overriding config.\n",
      "  warnings.warn(f'{key} is passed as an input but not a valid key in current config. So it is ignored while overriding config.')\n",
      "/user/d.bhatt/Multitask-RFG/mtrfg/utils/setup.py:27: UserWarning: output_file_path is passed as an input but not a valid key in current config. So it is ignored while overriding config.\n",
      "  warnings.warn(f'{key} is passed as an input but not a valid key in current config. So it is ignored while overriding config.')\n",
      "Your label namespace was 'pos'. We recommend you use a namespace ending with 'labels' or 'tags', so we don't add UNK and PAD tokens by default to your vocabulary.  See documentation for `non_padded_namespaces` parameter in Vocabulary.\n",
      "Processing full dataset from /tmp/tmp.conllu file.: 100%|██████████| 29/29 [00:03<00:00,  8.42it/s]\n",
      "Some weights of the model checkpoint at bert-base-uncased were not used when initializing BertModel: ['cls.predictions.transform.LayerNorm.weight', 'cls.seq_relationship.bias', 'cls.predictions.transform.dense.weight', 'cls.seq_relationship.weight', 'cls.predictions.transform.LayerNorm.bias', 'cls.predictions.transform.dense.bias', 'cls.predictions.bias', 'cls.predictions.decoder.weight']\n",
      "- This IS expected if you are initializing BertModel from the checkpoint of a model trained on another task or with another architecture (e.g. initializing a BertForSequenceClassification model from a BertForPreTraining model).\n",
      "- This IS NOT expected if you are initializing BertModel from the checkpoint of a model that you expect to be exactly identical (initializing a BertForSequenceClassification model from a BertForSequenceClassification model).\n",
      "                                                                            \r"
     ]
    },
    {
     "name": "stdout",
     "output_type": "stream",
     "text": [
      "Inference results are saved at /tmp/recipe_out.conllu.\n"
     ]
    }
   ],
   "source": [
    "## let's run inference\n",
    "dir_name = \"../saved_models/__bert-base-uncased_2022-09-06--14:03:09\"\n",
    "output_file_path = \"/tmp/recipe_out.conllu\"\n",
    "cmd = f'CUDA_VISIBLE_DEVICES=2 python3 ../tools/inference.py --opts --dir_name \"{dir_name}\" --recipes_file_path \"{recipe_text_file}\" --output_file_path \"{output_file_path}\" --use_pred_tags \"True\"'\n",
    "print(cmd)\n",
    "if os.system(cmd) != 0:\n",
    "    print(\"Inference failed!\")\n"
   ]
  }
 ],
 "metadata": {
  "interpreter": {
   "hash": "46e1864029c28752d956e1c306007726d1cdf9327c2678741762de7d12d39fb4"
  },
  "kernelspec": {
   "display_name": "Python 3.8.10 ('MTrfg_env': venv)",
   "language": "python",
   "name": "python3"
  },
  "language_info": {
   "codemirror_mode": {
    "name": "ipython",
    "version": 3
   },
   "file_extension": ".py",
   "mimetype": "text/x-python",
   "name": "python",
   "nbconvert_exporter": "python",
   "pygments_lexer": "ipython3",
   "version": "3.8.10"
  },
  "orig_nbformat": 4
 },
 "nbformat": 4,
 "nbformat_minor": 2
}
